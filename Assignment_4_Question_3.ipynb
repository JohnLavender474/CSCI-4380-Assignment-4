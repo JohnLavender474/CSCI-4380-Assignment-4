{
  "nbformat": 4,
  "nbformat_minor": 0,
  "metadata": {
    "colab": {
      "provenance": []
    },
    "kernelspec": {
      "name": "python3",
      "display_name": "Python 3"
    },
    "language_info": {
      "name": "python"
    }
  },
  "cells": [
    {
      "cell_type": "code",
      "execution_count": null,
      "metadata": {
        "id": "W1_oMAu7WZki"
      },
      "outputs": [],
      "source": []
    },
    {
      "cell_type": "markdown",
      "source": [
        "# **QUESTION 3**\n"
      ],
      "metadata": {
        "id": "HFk27rZ2WcEu"
      }
    },
    {
      "cell_type": "markdown",
      "source": [
        "First step: Load the necessary libraries"
      ],
      "metadata": {
        "id": "CFQDq5-mXjtv"
      }
    },
    {
      "cell_type": "code",
      "source": [
        "# Load the necessary libraries\n",
        "import numpy as np\n",
        "import matplotlib.pyplot as plt\n",
        "import seaborn as sns\n",
        "import pandas as pd\n",
        "from sklearn.model_selection import train_test_split\n",
        "from sklearn import metrics\n",
        "from sklearn.svm import SVC\n",
        "from sklearn.linear_model import LogisticRegression\n",
        "from sklearn.neighbors import KNeighborsClassifier\n",
        "from sklearn.metrics import accuracy_score\n",
        "from sklearn.model_selection import train_test_split\n",
        "from sklearn.naive_bayes import GaussianNB\n",
        "from sklearn import metrics"
      ],
      "metadata": {
        "id": "yQCXaJLyWdYV"
      },
      "execution_count": 18,
      "outputs": []
    },
    {
      "cell_type": "code",
      "source": [
        "# Access Dataset\n",
        "data = pd.read_csv('https://raw.githubusercontent.com/JohnLavender474/CSCI-4380-Assignment-4/master/data_banknote_authentication.txt')"
      ],
      "metadata": {
        "id": "FRYHeWj9uEi2"
      },
      "execution_count": 19,
      "outputs": []
    },
    {
      "cell_type": "code",
      "source": [
        "# labeling data\n",
        "labels = ['Variance', 'Skewness', 'Kurtosis', 'Entropy', 'Target']\n",
        "data.columns = labels\n",
        "print('Columns Names:', data.columns, '\\n')\n",
        "print('Data Describe:\\n ', data.describe(), '\\n')\n",
        "print('Data Information:'); print(data.info())"
      ],
      "metadata": {
        "colab": {
          "base_uri": "https://localhost:8080/"
        },
        "id": "I7gZyHjzuai2",
        "outputId": "c5a3dd28-cdb7-46ce-9c13-27cde6a44c1c"
      },
      "execution_count": 20,
      "outputs": [
        {
          "output_type": "stream",
          "name": "stdout",
          "text": [
            "Columns Names: Index(['Variance', 'Skewness', 'Kurtosis', 'Entropy', 'Target'], dtype='object') \n",
            "\n",
            "Data Describe:\n",
            "            Variance     Skewness     Kurtosis      Entropy       Target\n",
            "count  1372.000000  1372.000000  1372.000000  1372.000000  1372.000000\n",
            "mean      0.433735     1.922353     1.397627    -1.191657     0.444606\n",
            "std       2.842763     5.869047     4.310030     2.101013     0.497103\n",
            "min      -7.042100   -13.773100    -5.286100    -8.548200     0.000000\n",
            "25%      -1.773000    -1.708200    -1.574975    -2.413450     0.000000\n",
            "50%       0.496180     2.319650     0.616630    -0.586650     0.000000\n",
            "75%       2.821475     6.814625     3.179250     0.394810     1.000000\n",
            "max       6.824800    12.951600    17.927400     2.449500     1.000000 \n",
            "\n",
            "Data Information:\n",
            "<class 'pandas.core.frame.DataFrame'>\n",
            "RangeIndex: 1372 entries, 0 to 1371\n",
            "Data columns (total 5 columns):\n",
            " #   Column    Non-Null Count  Dtype  \n",
            "---  ------    --------------  -----  \n",
            " 0   Variance  1372 non-null   float64\n",
            " 1   Skewness  1372 non-null   float64\n",
            " 2   Kurtosis  1372 non-null   float64\n",
            " 3   Entropy   1372 non-null   float64\n",
            " 4   Target    1372 non-null   int64  \n",
            "dtypes: float64(4), int64(1)\n",
            "memory usage: 53.7 KB\n",
            "None\n"
          ]
        }
      ]
    },
    {
      "cell_type": "code",
      "source": [
        "# Check For duplicated\n",
        "print(data.duplicated().any())\n",
        "duplicated = data.duplicated()\n",
        "print('Number of duplicated data: ', duplicated[duplicated == True].size)"
      ],
      "metadata": {
        "colab": {
          "base_uri": "https://localhost:8080/"
        },
        "id": "_Z_4joBevTVQ",
        "outputId": "49fd965d-e5b3-46f3-88d9-43c93ff139df"
      },
      "execution_count": 21,
      "outputs": [
        {
          "output_type": "stream",
          "name": "stdout",
          "text": [
            "True\n",
            "Number of duplicated data:  24\n"
          ]
        }
      ]
    },
    {
      "cell_type": "code",
      "source": [
        "# Data Split\n",
        "x = data.drop('Target', axis=1).values\n",
        "y = data['Target'].values\n",
        "X_train, X_test, y_train, y_test = train_test_split(x, y, test_size=0.3, random_state=42)\n",
        "print(X_train.shape)\n",
        "print(y_train.shape)"
      ],
      "metadata": {
        "colab": {
          "base_uri": "https://localhost:8080/"
        },
        "id": "plwRxyffvpF8",
        "outputId": "9ebc96e8-7c0c-4ce3-d262-822fbb05b5f4"
      },
      "execution_count": 26,
      "outputs": [
        {
          "output_type": "stream",
          "name": "stdout",
          "text": [
            "(960, 4)\n",
            "(960,)\n"
          ]
        }
      ]
    },
    {
      "cell_type": "code",
      "source": [
        "from sklearn.cluster import KMeans\n",
        "from sklearn.metrics import normalized_mutual_info_score\n",
        "from sklearn.metrics import accuracy_score"
      ],
      "metadata": {
        "id": "uW5cabhzwMYF"
      },
      "execution_count": 27,
      "outputs": []
    },
    {
      "cell_type": "code",
      "source": [
        "def kmeans_clustering(X, k):\n",
        "    kmeans = KMeans(n_clusters=k, random_state=0)\n",
        "    kmeans.fit(X)\n",
        "    labels = kmeans.labels_\n",
        "\n",
        "    return labels"
      ],
      "metadata": {
        "id": "pn5PI15JwOGi"
      },
      "execution_count": 28,
      "outputs": []
    },
    {
      "cell_type": "code",
      "source": [
        "# Set k=2 for binary clustering\n",
        "k = 2\n",
        "kmeans_labels = kmeans_clustering(X_train, k)"
      ],
      "metadata": {
        "colab": {
          "base_uri": "https://localhost:8080/"
        },
        "id": "XC0ZvXYYwQHa",
        "outputId": "5f7dfc0d-f871-4199-9b40-04510f725a6c"
      },
      "execution_count": 29,
      "outputs": [
        {
          "output_type": "stream",
          "name": "stderr",
          "text": [
            "/usr/local/lib/python3.10/dist-packages/sklearn/cluster/_kmeans.py:870: FutureWarning: The default value of `n_init` will change from 10 to 'auto' in 1.4. Set the value of `n_init` explicitly to suppress the warning\n",
            "  warnings.warn(\n"
          ]
        }
      ]
    },
    {
      "cell_type": "code",
      "source": [
        "# definition to find purity score\n",
        "def purity_score(y_true, y_pred):\n",
        "    # Compute the contingency matrix\n",
        "    contingency_matrix = metrics.cluster.contingency_matrix(y_true, y_pred)\n",
        "    # Return the purity\n",
        "    return np.sum(np.amax(contingency_matrix, axis=0)) / np.sum(contingency_matrix)"
      ],
      "metadata": {
        "id": "YcnVNsCswVks"
      },
      "execution_count": 30,
      "outputs": []
    },
    {
      "cell_type": "code",
      "source": [
        "# Purity score\n",
        "purity = purity_score(y_train, kmeans_labels)\n",
        "print(\"Purity:\", purity)\n",
        "\n",
        "# Normalized Mutual Information (NMI)\n",
        "nmi = normalized_mutual_info_score(y_train, kmeans_labels)\n",
        "print(\"Normalized Mutual Information (NMI):\", nmi)"
      ],
      "metadata": {
        "colab": {
          "base_uri": "https://localhost:8080/"
        },
        "id": "udtDZ5vIwKe-",
        "outputId": "1eb4844f-046b-44fd-a090-5b704f9c987f"
      },
      "execution_count": 34,
      "outputs": [
        {
          "output_type": "stream",
          "name": "stdout",
          "text": [
            "Purity: 0.6229166666666667\n",
            "Normalized Mutual Information (NMI): 0.0376486552093842\n"
          ]
        }
      ]
    },
    {
      "cell_type": "code",
      "source": [
        "from sklearn.cluster import DBSCAN, SpectralClustering\n",
        "from sklearn.mixture import GaussianMixture"
      ],
      "metadata": {
        "id": "BMisa9aFxTEm"
      },
      "execution_count": 35,
      "outputs": []
    },
    {
      "cell_type": "code",
      "source": [
        "# Perform DBSCAN clustering\n",
        "def dbscan_clustering(X):\n",
        "    dbscan = DBSCAN(eps=0.5, min_samples=5)\n",
        "    labels = dbscan.fit_predict(X)\n",
        "    return labels"
      ],
      "metadata": {
        "id": "CBR_zcj3xUrt"
      },
      "execution_count": 36,
      "outputs": []
    },
    {
      "cell_type": "code",
      "source": [
        "# Perform GMM clustering\n",
        "def gmm_clustering(X, k):\n",
        "    gmm = GaussianMixture(n_components=k)\n",
        "    labels = gmm.fit(X).predict(X)\n",
        "    return labels"
      ],
      "metadata": {
        "id": "VI3AYrcCxWPN"
      },
      "execution_count": 37,
      "outputs": []
    },
    {
      "cell_type": "code",
      "source": [
        "# Perform Spectral Clustering\n",
        "def spectral_clustering(X, k):\n",
        "    spectral = SpectralClustering(n_clusters=k, eigen_solver='arpack', affinity='rbf')\n",
        "    labels = spectral.fit_predict(X)\n",
        "    return labels"
      ],
      "metadata": {
        "id": "juKuoNajxZH4"
      },
      "execution_count": 38,
      "outputs": []
    },
    {
      "cell_type": "code",
      "source": [
        "# Set k=2 for binary clustering\n",
        "k = 2"
      ],
      "metadata": {
        "id": "_PWp816FxdJ-"
      },
      "execution_count": 39,
      "outputs": []
    },
    {
      "cell_type": "code",
      "source": [
        "# DBSCAN Clustering\n",
        "dbscan_labels = dbscan_clustering(X_train)\n",
        "dbscan_purity = purity_score(y_train, dbscan_labels)\n",
        "dbscan_nmi = normalized_mutual_info_score(y_train, dbscan_labels)\n",
        "print(\"DBSCAN Purity:\", dbscan_purity)\n",
        "print(\"DBSCAN Normalized Mutual Information (NMI):\", dbscan_nmi)"
      ],
      "metadata": {
        "colab": {
          "base_uri": "https://localhost:8080/"
        },
        "id": "woa6y7EGxd3l",
        "outputId": "5e3a4cf0-02e0-4c21-fabb-b925e6b8c6cb"
      },
      "execution_count": 40,
      "outputs": [
        {
          "output_type": "stream",
          "name": "stdout",
          "text": [
            "DBSCAN Purity: 0.5864583333333333\n",
            "DBSCAN Normalized Mutual Information (NMI): 0.11085600174734399\n"
          ]
        }
      ]
    },
    {
      "cell_type": "code",
      "source": [
        "# GMM Clustering\n",
        "gmm_labels = gmm_clustering(X_train, k)\n",
        "gmm_purity = purity_score(y_train, gmm_labels)\n",
        "gmm_nmi = normalized_mutual_info_score(y_train, gmm_labels)\n",
        "print(\"GMM Purity:\", gmm_purity)\n",
        "print(\"GMM Normalized Mutual Information (NMI):\", gmm_nmi)"
      ],
      "metadata": {
        "colab": {
          "base_uri": "https://localhost:8080/"
        },
        "id": "xbHEoTMtxfUR",
        "outputId": "7b736efd-9267-4868-c9f2-d41bd132b815"
      },
      "execution_count": 41,
      "outputs": [
        {
          "output_type": "stream",
          "name": "stdout",
          "text": [
            "GMM Purity: 0.5552083333333333\n",
            "GMM Normalized Mutual Information (NMI): 0.004279959246495606\n"
          ]
        }
      ]
    },
    {
      "cell_type": "code",
      "source": [
        "# Spectral Clustering\n",
        "spectral_labels = spectral_clustering(X_train, k)\n",
        "spectral_purity = purity_score(y_train, spectral_labels)\n",
        "spectral_nmi = normalized_mutual_info_score(y_train, spectral_labels)\n",
        "print(\"Spectral Clustering Purity:\", spectral_purity)\n",
        "print(\"Spectral Clustering Normalized Mutual Information (NMI):\", spectral_nmi)"
      ],
      "metadata": {
        "colab": {
          "base_uri": "https://localhost:8080/"
        },
        "id": "xFJDvyocxgir",
        "outputId": "6b27b91d-0b49-4d4e-d980-27b61d4ca97f"
      },
      "execution_count": 42,
      "outputs": [
        {
          "output_type": "stream",
          "name": "stdout",
          "text": [
            "Spectral Clustering Purity: 0.5770833333333333\n",
            "Spectral Clustering Normalized Mutual Information (NMI): 0.04550856358430899\n"
          ]
        }
      ]
    }
  ]
}